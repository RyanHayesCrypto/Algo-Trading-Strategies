{
 "cells": [
  {
   "cell_type": "code",
   "execution_count": 68,
   "id": "cee5873b-3f80-4033-aeb7-2fe5ee222daf",
   "metadata": {},
   "outputs": [],
   "source": [
    "import yfinance as yf\n",
    "import matplotlib.pyplot as plt\n",
    "import pandas as pd"
   ]
  },
  {
   "cell_type": "code",
   "execution_count": 70,
   "id": "60b7f963-3e0c-4894-9510-fc991dfa7e14",
   "metadata": {
    "collapsed": true,
    "jupyter": {
     "outputs_hidden": true
    },
    "tags": []
   },
   "outputs": [
    {
     "name": "stdout",
     "output_type": "stream",
     "text": [
      "[*********************100%***********************]  1 of 1 completed\n"
     ]
    }
   ],
   "source": [
    "df = yf.download('ETH-USD', start = '2016-01-01')"
   ]
  },
  {
   "cell_type": "code",
   "execution_count": 71,
   "id": "63340fef-aace-4b8a-9137-b1303bda2b73",
   "metadata": {
    "collapsed": true,
    "jupyter": {
     "outputs_hidden": true
    },
    "tags": []
   },
   "outputs": [
    {
     "data": {
      "text/html": [
       "<div>\n",
       "<style scoped>\n",
       "    .dataframe tbody tr th:only-of-type {\n",
       "        vertical-align: middle;\n",
       "    }\n",
       "\n",
       "    .dataframe tbody tr th {\n",
       "        vertical-align: top;\n",
       "    }\n",
       "\n",
       "    .dataframe thead th {\n",
       "        text-align: right;\n",
       "    }\n",
       "</style>\n",
       "<table border=\"1\" class=\"dataframe\">\n",
       "  <thead>\n",
       "    <tr style=\"text-align: right;\">\n",
       "      <th></th>\n",
       "      <th>Open</th>\n",
       "      <th>High</th>\n",
       "      <th>Low</th>\n",
       "      <th>Close</th>\n",
       "      <th>Adj Close</th>\n",
       "      <th>Volume</th>\n",
       "    </tr>\n",
       "    <tr>\n",
       "      <th>Date</th>\n",
       "      <th></th>\n",
       "      <th></th>\n",
       "      <th></th>\n",
       "      <th></th>\n",
       "      <th></th>\n",
       "      <th></th>\n",
       "    </tr>\n",
       "  </thead>\n",
       "  <tbody>\n",
       "    <tr>\n",
       "      <th>2017-11-09</th>\n",
       "      <td>308.644989</td>\n",
       "      <td>329.451996</td>\n",
       "      <td>307.056000</td>\n",
       "      <td>320.884003</td>\n",
       "      <td>320.884003</td>\n",
       "      <td>893249984</td>\n",
       "    </tr>\n",
       "    <tr>\n",
       "      <th>2017-11-10</th>\n",
       "      <td>320.670990</td>\n",
       "      <td>324.717987</td>\n",
       "      <td>294.541992</td>\n",
       "      <td>299.252991</td>\n",
       "      <td>299.252991</td>\n",
       "      <td>885985984</td>\n",
       "    </tr>\n",
       "    <tr>\n",
       "      <th>2017-11-11</th>\n",
       "      <td>298.585999</td>\n",
       "      <td>319.453003</td>\n",
       "      <td>298.191986</td>\n",
       "      <td>314.681000</td>\n",
       "      <td>314.681000</td>\n",
       "      <td>842300992</td>\n",
       "    </tr>\n",
       "    <tr>\n",
       "      <th>2017-11-12</th>\n",
       "      <td>314.690002</td>\n",
       "      <td>319.153015</td>\n",
       "      <td>298.513000</td>\n",
       "      <td>307.907990</td>\n",
       "      <td>307.907990</td>\n",
       "      <td>1613479936</td>\n",
       "    </tr>\n",
       "    <tr>\n",
       "      <th>2017-11-13</th>\n",
       "      <td>307.024994</td>\n",
       "      <td>328.415009</td>\n",
       "      <td>307.024994</td>\n",
       "      <td>316.716003</td>\n",
       "      <td>316.716003</td>\n",
       "      <td>1041889984</td>\n",
       "    </tr>\n",
       "    <tr>\n",
       "      <th>...</th>\n",
       "      <td>...</td>\n",
       "      <td>...</td>\n",
       "      <td>...</td>\n",
       "      <td>...</td>\n",
       "      <td>...</td>\n",
       "      <td>...</td>\n",
       "    </tr>\n",
       "    <tr>\n",
       "      <th>2022-03-04</th>\n",
       "      <td>2834.987305</td>\n",
       "      <td>2835.176270</td>\n",
       "      <td>2587.748291</td>\n",
       "      <td>2617.156006</td>\n",
       "      <td>2617.156006</td>\n",
       "      <td>14496939024</td>\n",
       "    </tr>\n",
       "    <tr>\n",
       "      <th>2022-03-05</th>\n",
       "      <td>2618.473633</td>\n",
       "      <td>2679.102539</td>\n",
       "      <td>2596.989990</td>\n",
       "      <td>2664.831055</td>\n",
       "      <td>2664.831055</td>\n",
       "      <td>8072368396</td>\n",
       "    </tr>\n",
       "    <tr>\n",
       "      <th>2022-03-06</th>\n",
       "      <td>2664.943604</td>\n",
       "      <td>2673.637207</td>\n",
       "      <td>2555.037354</td>\n",
       "      <td>2555.037354</td>\n",
       "      <td>2555.037354</td>\n",
       "      <td>8872976607</td>\n",
       "    </tr>\n",
       "    <tr>\n",
       "      <th>2022-03-07</th>\n",
       "      <td>2555.297607</td>\n",
       "      <td>2639.943115</td>\n",
       "      <td>2455.593750</td>\n",
       "      <td>2497.771240</td>\n",
       "      <td>2497.771240</td>\n",
       "      <td>14594098731</td>\n",
       "    </tr>\n",
       "    <tr>\n",
       "      <th>2022-03-08</th>\n",
       "      <td>2490.487549</td>\n",
       "      <td>2618.166016</td>\n",
       "      <td>2490.487549</td>\n",
       "      <td>2567.206787</td>\n",
       "      <td>2567.206787</td>\n",
       "      <td>14787895296</td>\n",
       "    </tr>\n",
       "  </tbody>\n",
       "</table>\n",
       "<p>1581 rows × 6 columns</p>\n",
       "</div>"
      ],
      "text/plain": [
       "                   Open         High          Low        Close    Adj Close  \\\n",
       "Date                                                                          \n",
       "2017-11-09   308.644989   329.451996   307.056000   320.884003   320.884003   \n",
       "2017-11-10   320.670990   324.717987   294.541992   299.252991   299.252991   \n",
       "2017-11-11   298.585999   319.453003   298.191986   314.681000   314.681000   \n",
       "2017-11-12   314.690002   319.153015   298.513000   307.907990   307.907990   \n",
       "2017-11-13   307.024994   328.415009   307.024994   316.716003   316.716003   \n",
       "...                 ...          ...          ...          ...          ...   \n",
       "2022-03-04  2834.987305  2835.176270  2587.748291  2617.156006  2617.156006   \n",
       "2022-03-05  2618.473633  2679.102539  2596.989990  2664.831055  2664.831055   \n",
       "2022-03-06  2664.943604  2673.637207  2555.037354  2555.037354  2555.037354   \n",
       "2022-03-07  2555.297607  2639.943115  2455.593750  2497.771240  2497.771240   \n",
       "2022-03-08  2490.487549  2618.166016  2490.487549  2567.206787  2567.206787   \n",
       "\n",
       "                 Volume  \n",
       "Date                     \n",
       "2017-11-09    893249984  \n",
       "2017-11-10    885985984  \n",
       "2017-11-11    842300992  \n",
       "2017-11-12   1613479936  \n",
       "2017-11-13   1041889984  \n",
       "...                 ...  \n",
       "2022-03-04  14496939024  \n",
       "2022-03-05   8072368396  \n",
       "2022-03-06   8872976607  \n",
       "2022-03-07  14594098731  \n",
       "2022-03-08  14787895296  \n",
       "\n",
       "[1581 rows x 6 columns]"
      ]
     },
     "execution_count": 71,
     "metadata": {},
     "output_type": "execute_result"
    }
   ],
   "source": [
    "df"
   ]
  },
  {
   "cell_type": "code",
   "execution_count": 72,
   "id": "acd0b706-008a-4f8b-a046-8a3c3c33923a",
   "metadata": {},
   "outputs": [],
   "source": [
    "def MACD(df):\n",
    "    df['EMA12'] = df.Close.ewm(span=12).mean()\n",
    "    df['EMA26'] = df.Close.ewm(span=26).mean()\n",
    "    df['MACD'] = df.EMA12 - df.EMA26\n",
    "    df['signal'] = df.MACD.ewm(span=9).mean()\n",
    "    print('Indicators added')"
   ]
  },
  {
   "cell_type": "code",
   "execution_count": 73,
   "id": "bc907dfd-dce4-45fe-9ad3-767fffcae04d",
   "metadata": {
    "collapsed": true,
    "jupyter": {
     "outputs_hidden": true
    },
    "tags": []
   },
   "outputs": [
    {
     "name": "stdout",
     "output_type": "stream",
     "text": [
      "Indicators added\n"
     ]
    }
   ],
   "source": [
    "MACD(df)"
   ]
  },
  {
   "cell_type": "code",
   "execution_count": 74,
   "id": "b385056b-f516-4ebe-8fa1-b94caeebbcd0",
   "metadata": {
    "collapsed": true,
    "jupyter": {
     "outputs_hidden": true
    },
    "tags": []
   },
   "outputs": [
    {
     "data": {
      "text/html": [
       "<div>\n",
       "<style scoped>\n",
       "    .dataframe tbody tr th:only-of-type {\n",
       "        vertical-align: middle;\n",
       "    }\n",
       "\n",
       "    .dataframe tbody tr th {\n",
       "        vertical-align: top;\n",
       "    }\n",
       "\n",
       "    .dataframe thead th {\n",
       "        text-align: right;\n",
       "    }\n",
       "</style>\n",
       "<table border=\"1\" class=\"dataframe\">\n",
       "  <thead>\n",
       "    <tr style=\"text-align: right;\">\n",
       "      <th></th>\n",
       "      <th>Open</th>\n",
       "      <th>High</th>\n",
       "      <th>Low</th>\n",
       "      <th>Close</th>\n",
       "      <th>Adj Close</th>\n",
       "      <th>Volume</th>\n",
       "      <th>EMA12</th>\n",
       "      <th>EMA26</th>\n",
       "      <th>MACD</th>\n",
       "      <th>signal</th>\n",
       "    </tr>\n",
       "    <tr>\n",
       "      <th>Date</th>\n",
       "      <th></th>\n",
       "      <th></th>\n",
       "      <th></th>\n",
       "      <th></th>\n",
       "      <th></th>\n",
       "      <th></th>\n",
       "      <th></th>\n",
       "      <th></th>\n",
       "      <th></th>\n",
       "      <th></th>\n",
       "    </tr>\n",
       "  </thead>\n",
       "  <tbody>\n",
       "    <tr>\n",
       "      <th>2017-11-09</th>\n",
       "      <td>308.644989</td>\n",
       "      <td>329.451996</td>\n",
       "      <td>307.056000</td>\n",
       "      <td>320.884003</td>\n",
       "      <td>320.884003</td>\n",
       "      <td>893249984</td>\n",
       "      <td>320.884003</td>\n",
       "      <td>320.884003</td>\n",
       "      <td>0.000000</td>\n",
       "      <td>0.000000</td>\n",
       "    </tr>\n",
       "    <tr>\n",
       "      <th>2017-11-10</th>\n",
       "      <td>320.670990</td>\n",
       "      <td>324.717987</td>\n",
       "      <td>294.541992</td>\n",
       "      <td>299.252991</td>\n",
       "      <td>299.252991</td>\n",
       "      <td>885985984</td>\n",
       "      <td>309.167205</td>\n",
       "      <td>309.652516</td>\n",
       "      <td>-0.485311</td>\n",
       "      <td>-0.269617</td>\n",
       "    </tr>\n",
       "    <tr>\n",
       "      <th>2017-11-11</th>\n",
       "      <td>298.585999</td>\n",
       "      <td>319.453003</td>\n",
       "      <td>298.191986</td>\n",
       "      <td>314.681000</td>\n",
       "      <td>314.681000</td>\n",
       "      <td>842300992</td>\n",
       "      <td>311.319240</td>\n",
       "      <td>311.459201</td>\n",
       "      <td>-0.139961</td>\n",
       "      <td>-0.216480</td>\n",
       "    </tr>\n",
       "    <tr>\n",
       "      <th>2017-11-12</th>\n",
       "      <td>314.690002</td>\n",
       "      <td>319.153015</td>\n",
       "      <td>298.513000</td>\n",
       "      <td>307.907990</td>\n",
       "      <td>307.907990</td>\n",
       "      <td>1613479936</td>\n",
       "      <td>310.242442</td>\n",
       "      <td>310.466438</td>\n",
       "      <td>-0.223996</td>\n",
       "      <td>-0.219026</td>\n",
       "    </tr>\n",
       "    <tr>\n",
       "      <th>2017-11-13</th>\n",
       "      <td>307.024994</td>\n",
       "      <td>328.415009</td>\n",
       "      <td>307.024994</td>\n",
       "      <td>316.716003</td>\n",
       "      <td>316.716003</td>\n",
       "      <td>1041889984</td>\n",
       "      <td>312.001285</td>\n",
       "      <td>311.915738</td>\n",
       "      <td>0.085548</td>\n",
       "      <td>-0.128422</td>\n",
       "    </tr>\n",
       "    <tr>\n",
       "      <th>...</th>\n",
       "      <td>...</td>\n",
       "      <td>...</td>\n",
       "      <td>...</td>\n",
       "      <td>...</td>\n",
       "      <td>...</td>\n",
       "      <td>...</td>\n",
       "      <td>...</td>\n",
       "      <td>...</td>\n",
       "      <td>...</td>\n",
       "      <td>...</td>\n",
       "    </tr>\n",
       "    <tr>\n",
       "      <th>2022-03-04</th>\n",
       "      <td>2834.987305</td>\n",
       "      <td>2835.176270</td>\n",
       "      <td>2587.748291</td>\n",
       "      <td>2617.156006</td>\n",
       "      <td>2617.156006</td>\n",
       "      <td>14496939024</td>\n",
       "      <td>2788.935804</td>\n",
       "      <td>2823.841533</td>\n",
       "      <td>-34.905729</td>\n",
       "      <td>-44.400351</td>\n",
       "    </tr>\n",
       "    <tr>\n",
       "      <th>2022-03-05</th>\n",
       "      <td>2618.473633</td>\n",
       "      <td>2679.102539</td>\n",
       "      <td>2596.989990</td>\n",
       "      <td>2664.831055</td>\n",
       "      <td>2664.831055</td>\n",
       "      <td>8072368396</td>\n",
       "      <td>2769.842765</td>\n",
       "      <td>2812.062979</td>\n",
       "      <td>-42.220214</td>\n",
       "      <td>-43.964324</td>\n",
       "    </tr>\n",
       "    <tr>\n",
       "      <th>2022-03-06</th>\n",
       "      <td>2664.943604</td>\n",
       "      <td>2673.637207</td>\n",
       "      <td>2555.037354</td>\n",
       "      <td>2555.037354</td>\n",
       "      <td>2555.037354</td>\n",
       "      <td>8872976607</td>\n",
       "      <td>2736.795779</td>\n",
       "      <td>2793.024044</td>\n",
       "      <td>-56.228265</td>\n",
       "      <td>-46.417112</td>\n",
       "    </tr>\n",
       "    <tr>\n",
       "      <th>2022-03-07</th>\n",
       "      <td>2555.297607</td>\n",
       "      <td>2639.943115</td>\n",
       "      <td>2455.593750</td>\n",
       "      <td>2497.771240</td>\n",
       "      <td>2497.771240</td>\n",
       "      <td>14594098731</td>\n",
       "      <td>2700.022773</td>\n",
       "      <td>2771.153466</td>\n",
       "      <td>-71.130693</td>\n",
       "      <td>-51.359828</td>\n",
       "    </tr>\n",
       "    <tr>\n",
       "      <th>2022-03-08</th>\n",
       "      <td>2490.487549</td>\n",
       "      <td>2618.166016</td>\n",
       "      <td>2490.487549</td>\n",
       "      <td>2567.206787</td>\n",
       "      <td>2567.206787</td>\n",
       "      <td>14787895296</td>\n",
       "      <td>2679.589544</td>\n",
       "      <td>2756.046304</td>\n",
       "      <td>-76.456760</td>\n",
       "      <td>-56.379214</td>\n",
       "    </tr>\n",
       "  </tbody>\n",
       "</table>\n",
       "<p>1581 rows × 10 columns</p>\n",
       "</div>"
      ],
      "text/plain": [
       "                   Open         High          Low        Close    Adj Close  \\\n",
       "Date                                                                          \n",
       "2017-11-09   308.644989   329.451996   307.056000   320.884003   320.884003   \n",
       "2017-11-10   320.670990   324.717987   294.541992   299.252991   299.252991   \n",
       "2017-11-11   298.585999   319.453003   298.191986   314.681000   314.681000   \n",
       "2017-11-12   314.690002   319.153015   298.513000   307.907990   307.907990   \n",
       "2017-11-13   307.024994   328.415009   307.024994   316.716003   316.716003   \n",
       "...                 ...          ...          ...          ...          ...   \n",
       "2022-03-04  2834.987305  2835.176270  2587.748291  2617.156006  2617.156006   \n",
       "2022-03-05  2618.473633  2679.102539  2596.989990  2664.831055  2664.831055   \n",
       "2022-03-06  2664.943604  2673.637207  2555.037354  2555.037354  2555.037354   \n",
       "2022-03-07  2555.297607  2639.943115  2455.593750  2497.771240  2497.771240   \n",
       "2022-03-08  2490.487549  2618.166016  2490.487549  2567.206787  2567.206787   \n",
       "\n",
       "                 Volume        EMA12        EMA26       MACD     signal  \n",
       "Date                                                                     \n",
       "2017-11-09    893249984   320.884003   320.884003   0.000000   0.000000  \n",
       "2017-11-10    885985984   309.167205   309.652516  -0.485311  -0.269617  \n",
       "2017-11-11    842300992   311.319240   311.459201  -0.139961  -0.216480  \n",
       "2017-11-12   1613479936   310.242442   310.466438  -0.223996  -0.219026  \n",
       "2017-11-13   1041889984   312.001285   311.915738   0.085548  -0.128422  \n",
       "...                 ...          ...          ...        ...        ...  \n",
       "2022-03-04  14496939024  2788.935804  2823.841533 -34.905729 -44.400351  \n",
       "2022-03-05   8072368396  2769.842765  2812.062979 -42.220214 -43.964324  \n",
       "2022-03-06   8872976607  2736.795779  2793.024044 -56.228265 -46.417112  \n",
       "2022-03-07  14594098731  2700.022773  2771.153466 -71.130693 -51.359828  \n",
       "2022-03-08  14787895296  2679.589544  2756.046304 -76.456760 -56.379214  \n",
       "\n",
       "[1581 rows x 10 columns]"
      ]
     },
     "execution_count": 74,
     "metadata": {},
     "output_type": "execute_result"
    }
   ],
   "source": [
    "df"
   ]
  },
  {
   "cell_type": "code",
   "execution_count": 75,
   "id": "e43f2e97-80d1-4078-978d-c6e0b60ff4a2",
   "metadata": {
    "collapsed": true,
    "jupyter": {
     "outputs_hidden": true
    },
    "tags": []
   },
   "outputs": [
    {
     "data": {
      "image/png": "[encoded data removed]",
      "text/plain": [
       "<Figure size 432x288 with 1 Axes>"
      ]
     },
     "metadata": {
      "needs_background": "light"
     },
     "output_type": "display_data"
    }
   ],
   "source": [
    "plt.plot(df.signal, label ='signal', color='red')\n",
    "plt.plot(df.MACD, label ='MACD', color='green')\n",
    "plt.legend()\n",
    "plt.show()"
   ]
  },
  {
   "cell_type": "code",
   "execution_count": 76,
   "id": "4b3989e4-d842-4fa6-bafc-5be4e4b4ff02",
   "metadata": {},
   "outputs": [],
   "source": [
    "Buy, Sell = [],[]\n",
    "\n",
    "for i in range(2,len(df)):\n",
    "    if df.MACD.iloc[i] > df.signal.iloc[i] and df.MACD.iloc[i-1] < df.signal.iloc[i-1]:\n",
    "        Buy.append(i)\n",
    "    elif df.MACD.iloc[i] < df.signal.iloc[i] and df.MACD.iloc[i-1] > df.signal.iloc[i-1]:\n",
    "        Sell.append(i)"
   ]
  },
  {
   "cell_type": "code",
   "execution_count": 77,
   "id": "e729bcf5-21a1-48ed-aebc-82649bf18d4e",
   "metadata": {
    "collapsed": true,
    "jupyter": {
     "outputs_hidden": true
    },
    "tags": []
   },
   "outputs": [
    {
     "data": {
      "text/plain": [
       "[2,\n",
       " 4,\n",
       " 32,\n",
       " 55,\n",
       " 98,\n",
       " 109,\n",
       " 145,\n",
       " 207,\n",
       " 222,\n",
       " 234,\n",
       " 287,\n",
       " 310,\n",
       " 345,\n",
       " 388,\n",
       " 456,\n",
       " 494,\n",
       " 505,\n",
       " 543,\n",
       " 585,\n",
       " 628,\n",
       " 649,\n",
       " 651,\n",
       " 663,\n",
       " 698,\n",
       " 716,\n",
       " 757,\n",
       " 775,\n",
       " 810,\n",
       " 866,\n",
       " 931,\n",
       " 970,\n",
       " 985,\n",
       " 1008,\n",
       " 1027,\n",
       " 1043,\n",
       " 1055,\n",
       " 1064,\n",
       " 1092,\n",
       " 1116,\n",
       " 1134,\n",
       " 1144,\n",
       " 1167,\n",
       " 1182,\n",
       " 1198,\n",
       " 1215,\n",
       " 1237,\n",
       " 1265,\n",
       " 1302,\n",
       " 1313,\n",
       " 1328,\n",
       " 1351,\n",
       " 1392,\n",
       " 1422,\n",
       " 1482,\n",
       " 1490,\n",
       " 1504,\n",
       " 1528,\n",
       " 1543,\n",
       " 1572]"
      ]
     },
     "execution_count": 77,
     "metadata": {},
     "output_type": "execute_result"
    }
   ],
   "source": [
    "Buy"
   ]
  },
  {
   "cell_type": "code",
   "execution_count": 87,
   "id": "3ba2fb9c-04db-4696-a17e-bd42afa5a7c9",
   "metadata": {
    "collapsed": true,
    "jupyter": {
     "outputs_hidden": true
    },
    "tags": []
   },
   "outputs": [
    {
     "data": {
      "image/png": "[encoded data removed]",
      "text/plain": [
       "<Figure size 864x504 with 1 Axes>"
      ]
     },
     "metadata": {
      "needs_background": "light"
     },
     "output_type": "display_data"
    }
   ],
   "source": [
    "plt.figure(figsize=(12,7))\n",
    "plt.scatter(df.iloc[Buy].index, df.iloc[Buy].Close, marker='^', color='green')\n",
    "plt.scatter(df.iloc[Sell].index, df.iloc[Sell].Close, marker='v', color='red')\n",
    "plt.plot(df.Close, label = 'ETH Close', color='k')\n",
    "plt.legend()\n",
    "plt.show()"
   ]
  },
  {
   "cell_type": "code",
   "execution_count": 79,
   "id": "47dd8ed6-25f0-4fda-9219-6a8ca50e1b49",
   "metadata": {
    "collapsed": true,
    "jupyter": {
     "outputs_hidden": true
    },
    "tags": []
   },
   "outputs": [
    {
     "data": {
      "text/plain": [
       "[3,\n",
       " 27,\n",
       " 45,\n",
       " 68,\n",
       " 107,\n",
       " 118,\n",
       " 182,\n",
       " 213,\n",
       " 226,\n",
       " 264,\n",
       " 302,\n",
       " 336,\n",
       " 370,\n",
       " 427,\n",
       " 475,\n",
       " 497,\n",
       " 521,\n",
       " 567,\n",
       " 598,\n",
       " 643,\n",
       " 650,\n",
       " 657,\n",
       " 684,\n",
       " 707,\n",
       " 736,\n",
       " 767,\n",
       " 807,\n",
       " 834,\n",
       " 909,\n",
       " 945,\n",
       " 980,\n",
       " 1006,\n",
       " 1013,\n",
       " 1029,\n",
       " 1047,\n",
       " 1063,\n",
       " 1085,\n",
       " 1115,\n",
       " 1122,\n",
       " 1140,\n",
       " 1163,\n",
       " 1169,\n",
       " 1195,\n",
       " 1199,\n",
       " 1227,\n",
       " 1257,\n",
       " 1283,\n",
       " 1310,\n",
       " 1316,\n",
       " 1342,\n",
       " 1377,\n",
       " 1399,\n",
       " 1464,\n",
       " 1486,\n",
       " 1491,\n",
       " 1511,\n",
       " 1533,\n",
       " 1563,\n",
       " 1578]"
      ]
     },
     "execution_count": 79,
     "metadata": {},
     "output_type": "execute_result"
    }
   ],
   "source": [
    "Sell"
   ]
  },
  {
   "cell_type": "code",
   "execution_count": 80,
   "id": "51e14fe6-9357-43fe-bd05-fd5f04c18bc0",
   "metadata": {},
   "outputs": [],
   "source": [
    "TrueBuys = [i+1 for i in Buy]\n",
    "TrueSells = [i+1 for i in Sell]"
   ]
  },
  {
   "cell_type": "code",
   "execution_count": 81,
   "id": "a125b124-31f4-4117-a87d-09de5534c157",
   "metadata": {},
   "outputs": [],
   "source": [
    "BuyPrices = df.Open.iloc[TrueBuys]\n",
    "SellPrices = df.Open.iloc[TrueSells]"
   ]
  },
  {
   "cell_type": "code",
   "execution_count": 82,
   "id": "d1d054be-3529-496b-bfb8-67a2bb5ec1b3",
   "metadata": {
    "collapsed": true,
    "jupyter": {
     "outputs_hidden": true
    },
    "tags": []
   },
   "outputs": [
    {
     "data": {
      "text/plain": [
       "Date\n",
       "2017-11-12     314.690002\n",
       "2017-11-14     316.763000\n",
       "2017-12-12     522.286011\n",
       "2018-01-04     961.713013\n",
       "2018-02-16     934.786011\n",
       "2018-02-27     870.364990\n",
       "2018-04-04     416.484985\n",
       "2018-06-05     593.406006\n",
       "2018-06-20     538.505981\n",
       "2018-07-02     453.824005\n",
       "2018-08-24     278.110992\n",
       "2018-09-16     222.802994\n",
       "2018-10-21     205.389999\n",
       "2018-12-03     116.378761\n",
       "2019-02-09     119.214111\n",
       "2019-03-19     139.254013\n",
       "2019-03-30     142.359146\n",
       "2019-05-07     172.427277\n",
       "2019-06-18     274.320251\n",
       "2019-07-31     210.492416\n",
       "2019-08-21     196.621689\n",
       "2019-08-23     191.106873\n",
       "2019-09-04     179.491989\n",
       "2019-10-09     182.036301\n",
       "2019-10-27     179.932632\n",
       "2019-12-07     149.197601\n",
       "2019-12-25     129.068497\n",
       "2020-01-29     176.347885\n",
       "2020-03-25     138.914963\n",
       "2020-05-29     219.925049\n",
       "2020-07-07     240.972595\n",
       "2020-07-22     245.037262\n",
       "2020-08-14     428.677277\n",
       "2020-09-02     477.007874\n",
       "2020-09-18     389.337494\n",
       "2020-09-30     360.038513\n",
       "2020-10-09     351.112885\n",
       "2020-11-06     414.066711\n",
       "2020-11-30     575.757080\n",
       "2020-12-18     642.916992\n",
       "2020-12-28     683.205811\n",
       "2021-01-20    1375.248413\n",
       "2021-02-04    1661.170166\n",
       "2021-02-20    1959.902954\n",
       "2021-03-09    1835.148071\n",
       "2021-03-31    1846.098267\n",
       "2021-04-28    2664.685547\n",
       "2021-06-04    2857.165527\n",
       "2021-06-15    2587.762695\n",
       "2021-06-30    2164.216309\n",
       "2021-07-23    2025.105713\n",
       "2021-09-02    3825.027832\n",
       "2021-10-02    3308.870361\n",
       "2021-12-01    4623.679688\n",
       "2021-12-09    4433.024902\n",
       "2021-12-23    3981.961670\n",
       "2022-01-16    3330.387207\n",
       "2022-01-31    2603.263428\n",
       "2022-03-01    2919.775879\n",
       "Name: Open, dtype: float64"
      ]
     },
     "execution_count": 82,
     "metadata": {},
     "output_type": "execute_result"
    }
   ],
   "source": [
    "BuyPrices"
   ]
  },
  {
   "cell_type": "code",
   "execution_count": 83,
   "id": "429ee2c7-020a-44a5-a224-e421475daca7",
   "metadata": {},
   "outputs": [],
   "source": [
    "if SellPrices.index[0] < BuyPrices.index[0]:\n",
    "    SellPrices = SellPrices.drop(SellPrices.index[0])\n",
    "elif BuyPrices.index[-1] > SellPrices.index[-1]:\n",
    "    BuyPrices = BuyPrices.drop(BuyPrices.index[-1])"
   ]
  },
  {
   "cell_type": "code",
   "execution_count": 84,
   "id": "d8941191-2d58-4782-9157-337a8d2d9385",
   "metadata": {},
   "outputs": [],
   "source": [
    "profitsrel = []\n",
    "\n",
    "for i in range(len(SellPrices)):\n",
    "    profitsrel.append(SellPrices[i] - BuyPrices[i]/BuyPrices[i])"
   ]
  },
  {
   "cell_type": "code",
   "execution_count": 85,
   "id": "c90900d8-91dc-495a-aa7a-2efcd845deaa",
   "metadata": {
    "tags": []
   },
   "outputs": [
    {
     "data": {
      "text/plain": [
       "[306.0249938964844,\n",
       " 425.3689880371094,\n",
       " 697.8699951171875,\n",
       " 1060.3399658203125,\n",
       " 838.458984375,\n",
       " 751.5700073242188,\n",
       " 726.0130004882812,\n",
       " 523.8569946289062,\n",
       " 473.76800537109375,\n",
       " 432.8689880371094,\n",
       " 216.91200256347656,\n",
       " 187.70700073242188,\n",
       " 180.8990020751953,\n",
       " 126.81396484375,\n",
       " 135.2830810546875,\n",
       " 135.562255859375,\n",
       " 166.89747619628906,\n",
       " 255.0152587890625,\n",
       " 289.26849365234375,\n",
       " 185.68350219726562,\n",
       " 185.9412384033203,\n",
       " 172.9586944580078,\n",
       " 167.13357543945312,\n",
       " 176.98855590820312,\n",
       " 179.4990997314453,\n",
       " 132.64718627929688,\n",
       " 160.17681884765625,\n",
       " 264.55157470703125,\n",
       " 202.91285705566406,\n",
       " 230.62545776367188,\n",
       " 232.69139099121094,\n",
       " 379.0638122558594,\n",
       " 422.73858642578125,\n",
       " 383.671630859375,\n",
       " 340.72381591796875,\n",
       " 341.0446472167969,\n",
       " 385.7302551269531,\n",
       " 537.2645874023438,\n",
       " 595.5686645507812,\n",
       " 583.1356201171875,\n",
       " 1170.443115234375,\n",
       " 1117.8890380859375,\n",
       " 1780.35009765625,\n",
       " 1917.673095703125,\n",
       " 1811.6065673828125,\n",
       " 2160.939453125,\n",
       " 3640.830810546875,\n",
       " 2353.752197265625,\n",
       " 2373.5869140625,\n",
       " 1940.1678466796875,\n",
       " 3010.963623046875,\n",
       " 3451.54833984375,\n",
       " 4665.71923828125,\n",
       " 4118.62890625,\n",
       " 4112.58837890625,\n",
       " 3631.2197265625,\n",
       " 3001.956787109375,\n",
       " 2762.756591796875,\n",
       " 2554.297607421875]"
      ]
     },
     "execution_count": 85,
     "metadata": {},
     "output_type": "execute_result"
    }
   ],
   "source": [
    "profitsrel"
   ]
  },
  {
   "cell_type": "code",
   "execution_count": 86,
   "id": "e5572d2d-1612-45c2-99a6-aee4d359a1f5",
   "metadata": {},
   "outputs": [
    {
     "data": {
      "text/plain": [
       "0    1114.714718\n",
       "dtype: float64"
      ]
     },
     "execution_count": 86,
     "metadata": {},
     "output_type": "execute_result"
    }
   ],
   "source": [
    "pd.DataFrame(profitsrel).mean()"
   ]
  },
  {
   "cell_type": "code",
   "execution_count": null,
   "id": "05cf4e56-7342-4308-a113-1bc08ca64652",
   "metadata": {},
   "outputs": [],
   "source": []
  }
 ],
 "metadata": {
  "kernelspec": {
   "display_name": "Python 3",
   "language": "python",
   "name": "python3"
  },
  "language_info": {
   "codemirror_mode": {
    "name": "ipython",
    "version": 3
   },
   "file_extension": ".py",
   "mimetype": "text/x-python",
   "name": "python",
   "nbconvert_exporter": "python",
   "pygments_lexer": "ipython3",
   "version": "3.8.8"
  }
 },
 "nbformat": 4,
 "nbformat_minor": 5
}
